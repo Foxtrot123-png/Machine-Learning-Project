{
 "cells": [
  {
   "cell_type": "markdown",
   "id": "f06f468c",
   "metadata": {},
   "source": [
    "Github Link : https://github.com/Foxtrot123-png/Machine-Learning-Project"
   ]
  },
  {
   "cell_type": "code",
   "execution_count": null,
   "id": "3d412b68-cd75-4a92-aa93-8aaaf336aee1",
   "metadata": {},
   "outputs": [],
   "source": [
    "import matplotlib.pyplot as plt\n",
    "import numpy as np\n",
    "import pandas as pd\n",
    "from sklearn.datasets import load_breast_cancer\n",
    "from sklearn import svm\n",
    "from sklearn.model_selection import train_test_split\n",
    "import seaborn as sns\n",
    "from sklearn.inspection import DecisionBoundaryDisplay\n"
   ]
  },
  {
   "cell_type": "code",
   "execution_count": null,
   "id": "aef51e4a-8137-445b-ab33-0772be60e240",
   "metadata": {},
   "outputs": [],
   "source": [
    "cancer = load_breast_cancer()"
   ]
  },
  {
   "cell_type": "code",
   "execution_count": null,
   "id": "591181ef-55b9-4a40-b8e6-87f7fb460db3",
   "metadata": {
    "panel-layout": {
     "height": 165.703125,
     "visible": true,
     "width": 100
    }
   },
   "outputs": [],
   "source": [
    "df = pd.DataFrame(cancer.data, columns=cancer.feature_names)\n",
    "\n",
    "df['target'] = cancer.target"
   ]
  },
  {
   "cell_type": "code",
   "execution_count": null,
   "id": "65da4eec-e6d6-47f4-95b1-67f63c61ea43",
   "metadata": {},
   "outputs": [],
   "source": [
    "df.head()"
   ]
  },
  {
   "cell_type": "code",
   "execution_count": null,
   "id": "8dada055-fdb9-43b8-bcab-37d26a7c38d3",
   "metadata": {
    "panel-layout": {
     "height": 61.38671875,
     "visible": true,
     "width": 100
    }
   },
   "outputs": [],
   "source": [
    "df.columns"
   ]
  },
  {
   "cell_type": "code",
   "execution_count": null,
   "id": "bb55c297-5f91-4a9f-835f-1c3f42a25532",
   "metadata": {
    "panel-layout": {
     "height": 242.9296875,
     "visible": true,
     "width": 100
    }
   },
   "outputs": [],
   "source": [
    "df.describe()"
   ]
  },
  {
   "cell_type": "code",
   "execution_count": null,
   "id": "74e1a1bf-e187-43e4-892f-08a5b89bdc6b",
   "metadata": {
    "panel-layout": {
     "height": 345.8984375,
     "visible": true,
     "width": 100
    }
   },
   "outputs": [],
   "source": [
    "df.dtypes"
   ]
  },
  {
   "cell_type": "code",
   "execution_count": null,
   "id": "dfcad31d-f140-47d0-afdc-d363804d1d04",
   "metadata": {
    "panel-layout": {
     "height": 345.8984375,
     "visible": true,
     "width": 100
    }
   },
   "outputs": [],
   "source": [
    "df.isna().sum()"
   ]
  },
  {
   "cell_type": "code",
   "execution_count": null,
   "id": "c7e1e187-3aaf-4f19-a403-4dc64d55bf2e",
   "metadata": {},
   "outputs": [],
   "source": [
    "df['target'].unique()"
   ]
  },
  {
   "cell_type": "code",
   "execution_count": null,
   "id": "2a210368-7b78-47c2-8c9c-d50d4b397868",
   "metadata": {},
   "outputs": [],
   "source": [
    "\n",
    "m = []\n",
    "c=[]\n",
    "for i in df.index:\n",
    "    if df['target'][i] == 0:\n",
    "        m.append('o')\n",
    "        c.append('g')\n",
    "    else : \n",
    "        m.append('x')\n",
    "        c.append('r')\n",
    "    "
   ]
  },
  {
   "cell_type": "code",
   "execution_count": null,
   "id": "14b5d3f0-7037-4c84-baf7-bbfff3eb2496",
   "metadata": {},
   "outputs": [],
   "source": [
    "df.head()"
   ]
  },
  {
   "cell_type": "code",
   "execution_count": null,
   "id": "d7fe6c6c-d389-467f-a455-fe6571fe9bd3",
   "metadata": {},
   "outputs": [],
   "source": []
  },
  {
   "cell_type": "code",
   "execution_count": null,
   "id": "7c71e645-0ded-4d5d-978d-90071b299918",
   "metadata": {
    "panel-layout": {
     "height": 700.99609375,
     "visible": true,
     "width": 100
    },
    "scrolled": true
   },
   "outputs": [],
   "source": [
    "\n",
    "for i in range(40,48,2):\n",
    "    plt.scatter(df['mean texture'][i],1, color=c[i], marker=m[i], s = 50)\n",
    "\n",
    "\n",
    "plt.show()\n",
    "\n"
   ]
  },
  {
   "cell_type": "code",
   "execution_count": null,
   "id": "8f6f606e-8609-4cd4-a2af-8b084de60366",
   "metadata": {},
   "outputs": [],
   "source": []
  },
  {
   "cell_type": "code",
   "execution_count": null,
   "id": "032c1703-5a2a-49ad-b439-15ea0ff67129",
   "metadata": {},
   "outputs": [],
   "source": []
  },
  {
   "cell_type": "code",
   "execution_count": null,
   "id": "702dbd6e-d7a6-48d6-8e61-a34c2fae530b",
   "metadata": {},
   "outputs": [],
   "source": [
    "for i in range(39,50,2):\n",
    "    plt.scatter(df['mean texture'][i],df['mean radius'][i], color=c[i], marker=m[i], s = 50)\n",
    "\n",
    "\n",
    "plt.show()"
   ]
  },
  {
   "cell_type": "code",
   "execution_count": null,
   "id": "ce38d354-4ecf-4c15-ac33-e130126e95a7",
   "metadata": {
    "panel-layout": {
     "height": 700.99609375,
     "visible": true,
     "width": 100
    }
   },
   "outputs": [],
   "source": [
    "for i in range(40,55):\n",
    "    plt.scatter(df['mean texture'][i],1, color=c[i], marker=m[i], s = 50)\n",
    "\n",
    "\n",
    "plt.show()"
   ]
  },
  {
   "cell_type": "code",
   "execution_count": null,
   "id": "56bbf4d9-70eb-40f5-8e13-26ff2a57a3f8",
   "metadata": {},
   "outputs": [],
   "source": [
    "for i in range(40,50):\n",
    "    plt.scatter(df['mean texture'][i],df['mean radius'][i], color=c[i], marker=m[i], s = 50)\n",
    "\n",
    "\n",
    "plt.show()"
   ]
  },
  {
   "cell_type": "code",
   "execution_count": null,
   "id": "b99f1325-f8f0-4a10-8a57-b0c9013cfc4d",
   "metadata": {},
   "outputs": [],
   "source": [
    "for i in range(40,50):\n",
    "    plt.scatter(df['mean texture'][i],df['mean radius'][i], color=c[i], marker=m[i], s = 50)\n",
    "\n",
    "\n",
    "plt.show()"
   ]
  },
  {
   "cell_type": "code",
   "execution_count": null,
   "id": "ee4f3f2d-4b86-4102-91c4-61fe7ba2f8b1",
   "metadata": {},
   "outputs": [],
   "source": [
    "#Uncomment this when you need to visualize this \n",
    "#%matplotlib qt\n",
    "\n",
    "from mpl_toolkits.mplot3d import Axes3D \n",
    "fig = plt.figure() \n",
    "ax = fig.add_subplot(111, projection='3d')\n",
    "        \n",
    "for i in range(40,70):\n",
    "    ax.scatter(df['mean texture'][i],df['mean radius'][i],df['mean smoothness'][i], color=c[i], marker=m[i], s = 50)\n",
    "\n",
    "\n",
    "plt.show()\n"
   ]
  },
  {
   "cell_type": "code",
   "execution_count": null,
   "id": "a674d11b-420e-4620-8e02-8d66b4c92154",
   "metadata": {},
   "outputs": [],
   "source": [
    "#%matplotlib qt\n",
    "#Uncomment this when you need to visualize this \n",
    "\n",
    "\n",
    "from mpl_toolkits.mplot3d import Axes3D \n",
    "fig = plt.figure() \n",
    "ax = fig.add_subplot(111, projection='3d')\n",
    "        \n",
    "for i in range(40,50):\n",
    "    ax.scatter(df['mean texture'][i],df['mean radius'][i],np.power(df['mean texture'][i],2)+np.power(df['mean radius'][i],2)+np.power(df['mean radius'][i],2)*np.power(df['mean texture'][i],2), color=c[i], marker=m[i], s = 50)\n",
    "\n",
    "\n",
    "plt.show()\n"
   ]
  },
  {
   "cell_type": "code",
   "execution_count": null,
   "id": "2868ff15-205e-4fbf-800e-e8951da68ba5",
   "metadata": {},
   "outputs": [],
   "source": [
    "\n",
    "\n",
    "\n",
    "def plot_data_with_decision_boundary(\n",
    "    kernel, ax=None, long_title=True, support_vectors=True,X=None,y=None,colors=None,gamma= 1.5,c=0.1,m=None\n",
    "):\n",
    "    # Train the SVC\n",
    "    clf = svm.SVC(kernel=kernel, gamma=gamma,C=c)\n",
    "    clf_ = clf.fit(X,y)\n",
    "\n",
    "    fig, ax = plt.subplots()\n",
    "    x_min, x_max, y_min, y_max = 13, 25,5, 20\n",
    "    ax.set(xlim=(x_min, x_max), ylim=(y_min, y_max))\n",
    "\n",
    "    # Plot decision boundary and margins\n",
    "    DecisionBoundaryDisplay.from_estimator(\n",
    "        estimator = clf_,\n",
    "        X=X,\n",
    "        response_method=\"predict\",\n",
    "        plot_method=\"pcolormesh\",\n",
    "        alpha=0.3,\n",
    "        ax=ax\n",
    "    )\n",
    "    DecisionBoundaryDisplay.from_estimator(\n",
    "        estimator = clf_,\n",
    "        X=X,\n",
    "        response_method=\"decision_function\",\n",
    "        plot_method=\"contour\",\n",
    "        levels=[-1, 0, 1],\n",
    "        colors=[\"k\", \"k\", \"k\"],\n",
    "        linestyles=[\"--\", \"-\", \"--\"],\n",
    "        ax=ax\n",
    "    )\n",
    "    ax.scatter(\n",
    "        clf_.support_vectors_[:, 0],\n",
    "        clf_.support_vectors_[:, 1],\n",
    "        s=150,\n",
    "        facecolors=\"none\",\n",
    "        edgecolors=\"k\"\n",
    "    )\n",
    "\n",
    "    # Plot samples by color and add legend\n",
    "    for i in range(len(X)):\n",
    "        ax.scatter(X.iloc[i, 0], X.iloc[i, 1],c=colors[i],marker=m[i], s=30, edgecolors=\"k\")\n",
    "    c_ = {\n",
    "        \"r\":\"Malignant\",\n",
    "        \"g\":\"Benign\"\n",
    "    }\n",
    "    for i in set(colors):\n",
    "        ax.scatter([], [], color=i, label=f\"{c_[i]}\")\n",
    "    ax.legend(loc=\"upper right\", title=\"Classes\")\n",
    "    if long_title:\n",
    "        ax.set_title(f\" Decision boundaries of {kernel} kernel in SVC\")\n",
    "    else:\n",
    "        ax.set_title(kernel)\n",
    "\n",
    "    if ax is None:\n",
    "        plt.show()"
   ]
  },
  {
   "cell_type": "code",
   "execution_count": null,
   "id": "b928d404-4e90-42d3-82b5-7e9f8dd9532e",
   "metadata": {},
   "outputs": [],
   "source": [
    "Dataframe = df[['mean texture','mean radius']]\n",
    "Dataframe.dtypes"
   ]
  },
  {
   "cell_type": "code",
   "execution_count": null,
   "id": "5816477f-0284-49cd-a483-13cb1b676307",
   "metadata": {},
   "outputs": [],
   "source": [
    "plot_data_with_decision_boundary(kernel='linear',X=Dataframe[40:70],y=df['target'][40:70],colors=c[40:70],m=m[40:70])"
   ]
  },
  {
   "cell_type": "code",
   "execution_count": null,
   "id": "0ecf1bac-00e4-4640-93a6-0daaa82db354",
   "metadata": {},
   "outputs": [],
   "source": [
    "plot_data_with_decision_boundary(kernel='linear',X=Dataframe[40:49],y=df['target'][40:49],colors=c[40:49],m=m[40:49])"
   ]
  },
  {
   "cell_type": "code",
   "execution_count": null,
   "id": "4782ab3b-3c21-4d24-ae41-e2f0626ff410",
   "metadata": {},
   "outputs": [],
   "source": [
    "plot_data_with_decision_boundary(kernel='linear',X=Dataframe[40:50],y=df['target'][40:50],colors=c[40:50],m=m[40:50],gamma=0,c=100)"
   ]
  },
  {
   "cell_type": "code",
   "execution_count": null,
   "id": "c1566cd0-77d6-4f25-afe1-9b994bf7c1ff",
   "metadata": {},
   "outputs": [],
   "source": [
    "plot_data_with_decision_boundary(kernel='poly',X=Dataframe[40:50],y=df['target'][40:50],colors=c[40:50],c=100,gamma=10,m=m[40:50])"
   ]
  },
  {
   "cell_type": "code",
   "execution_count": null,
   "id": "985ccb92-52fa-4c6a-8bd4-412fa1d11d7e",
   "metadata": {},
   "outputs": [],
   "source": [
    "plot_data_with_decision_boundary(kernel='poly',X=Dataframe[40:70],y=df['target'][40:70],colors=c[40:70],c=100,gamma=10,m=m[40:70])"
   ]
  },
  {
   "cell_type": "code",
   "execution_count": null,
   "id": "152d2d02-35f5-41f2-b9ea-db50a1632c0a",
   "metadata": {},
   "outputs": [],
   "source": []
  },
  {
   "cell_type": "code",
   "execution_count": null,
   "id": "ed30f93c-0184-46fc-b0ac-cdbc585ca02b",
   "metadata": {
    "panel-layout": {
     "height": 728.125,
     "visible": true,
     "width": 100
    }
   },
   "outputs": [],
   "source": [
    "len(df)"
   ]
  },
  {
   "cell_type": "code",
   "execution_count": null,
   "id": "f1254089-5f50-4e4e-b8ea-b2b0cd27cac4",
   "metadata": {
    "panel-layout": {
     "height": 762.3828125,
     "visible": true,
     "width": 100
    }
   },
   "outputs": [],
   "source": [
    "df.columns"
   ]
  },
  {
   "cell_type": "code",
   "execution_count": null,
   "id": "3ab58d01-6471-445d-867c-9dadf4f56f97",
   "metadata": {},
   "outputs": [],
   "source": [
    "for i in df.columns:\n",
    "    y = df[i].unique()\n",
    "    print(f\"{i}:{len(y)}\")"
   ]
  },
  {
   "cell_type": "code",
   "execution_count": null,
   "id": "6929359a-c941-48de-86f7-2f48b83ed21a",
   "metadata": {},
   "outputs": [],
   "source": []
  },
  {
   "cell_type": "code",
   "execution_count": null,
   "id": "08de573a-c774-4d50-ac65-62c21217edee",
   "metadata": {},
   "outputs": [],
   "source": [
    "plt.hist(df['mean texture'])\n",
    "#This shoes most of the number of passengers have tickets that cost from 0 to 150 pounds."
   ]
  },
  {
   "cell_type": "code",
   "execution_count": null,
   "id": "eaaa5683-d42c-4422-8f4f-4d490a91aa7b",
   "metadata": {},
   "outputs": [],
   "source": [
    "X= df.drop(columns=['target'])\n",
    "y=df['target']"
   ]
  },
  {
   "cell_type": "code",
   "execution_count": null,
   "id": "59386714-a0cf-466c-af7b-d6c12cd90a22",
   "metadata": {},
   "outputs": [],
   "source": [
    "#Imported The SVM Library and Train Test Split\n",
    "from sklearn import svm\n",
    "from sklearn.model_selection import train_test_split"
   ]
  },
  {
   "cell_type": "code",
   "execution_count": null,
   "id": "7bdfe669-9bc0-428d-9146-975faab58ac7",
   "metadata": {},
   "outputs": [],
   "source": [
    "X.head()"
   ]
  },
  {
   "cell_type": "code",
   "execution_count": null,
   "id": "43a224e2-cc20-4ada-9694-6b7dcdbafd19",
   "metadata": {},
   "outputs": [],
   "source": [
    "X_=X.iloc[:,:2]"
   ]
  },
  {
   "cell_type": "code",
   "execution_count": null,
   "id": "a9833174-089e-4394-8b20-45c0c1600cb9",
   "metadata": {},
   "outputs": [],
   "source": [
    "X_.isna().sum()"
   ]
  },
  {
   "cell_type": "code",
   "execution_count": null,
   "id": "1118e8b5-bb66-4eb2-be6a-f2890bde8956",
   "metadata": {},
   "outputs": [],
   "source": [
    "X_train,X_test,y_train,y_test = train_test_split(X_,y,test_size=.20,random_state=200)"
   ]
  },
  {
   "cell_type": "code",
   "execution_count": null,
   "id": "7ceea037-22d1-4694-b5d7-082d096be646",
   "metadata": {},
   "outputs": [],
   "source": [
    "X_train.isna().sum()"
   ]
  },
  {
   "cell_type": "code",
   "execution_count": null,
   "id": "098a645a-ac2a-45c9-ba44-a4b9fb475c60",
   "metadata": {},
   "outputs": [],
   "source": [
    "X_train.describe()"
   ]
  },
  {
   "cell_type": "code",
   "execution_count": null,
   "id": "6ab31e4a-d0c6-46b9-ae5d-84b024158cdc",
   "metadata": {},
   "outputs": [],
   "source": [
    "y_train.head()"
   ]
  },
  {
   "cell_type": "code",
   "execution_count": null,
   "id": "6162e9e2-6f22-4ee6-979e-5a7206b93fb5",
   "metadata": {},
   "outputs": [],
   "source": [
    "y_train.shape"
   ]
  },
  {
   "cell_type": "code",
   "execution_count": null,
   "id": "79824200-5c04-4f7f-9728-ee59be876ffc",
   "metadata": {},
   "outputs": [],
   "source": [
    "c = []\n",
    "for i in df.index:\n",
    "    if df['target'][i] == 0:\n",
    "        c.append('r')\n",
    "    else : \n",
    "        c.append('g')\n",
    "\n",
    "c[:5]"
   ]
  },
  {
   "cell_type": "code",
   "execution_count": null,
   "id": "52719a61-4e55-4f72-8765-4b72f0dd4b80",
   "metadata": {},
   "outputs": [],
   "source": [
    "def plot_training_data_with_decision_boundary(\n",
    "    kernel, ax=None, long_title=True, support_vectors=True,X=None,y=None,colors=None,gamma= 1.5,c=1\n",
    "):\n",
    "    # Train the SVC\n",
    "    clf = svm.SVC(kernel=kernel, gamma=gamma,C=c)\n",
    "    clf_ = clf.fit(X,y)\n",
    "\n",
    "    fig, ax = plt.subplots(figsize=(8, 6))\n",
    "    x_min, x_max, y_min, y_max = 5, 28, 5, 34\n",
    "    ax.set(xlim=(x_min, x_max), ylim=(y_min, y_max))\n",
    "\n",
    "    # Plot decision boundary and margins\n",
    "    DecisionBoundaryDisplay.from_estimator(\n",
    "        estimator = clf_,\n",
    "        X=X,\n",
    "        response_method=\"predict\",\n",
    "        plot_method=\"pcolormesh\",\n",
    "        alpha=0.3,\n",
    "        ax=ax\n",
    "    )\n",
    "    DecisionBoundaryDisplay.from_estimator(\n",
    "        estimator = clf_,\n",
    "        X=X,\n",
    "        response_method=\"decision_function\",\n",
    "        plot_method=\"contour\",\n",
    "        levels=[-1, 0, 1],\n",
    "        colors=[\"k\", \"k\", \"k\"],\n",
    "        linestyles=[\"--\", \"-\", \"--\"],\n",
    "        ax=ax\n",
    "    )\n",
    "    ax.scatter(\n",
    "        clf_.support_vectors_[:, 0],\n",
    "        clf_.support_vectors_[:, 1],\n",
    "        s=150,\n",
    "        facecolors=\"none\",\n",
    "        edgecolors=\"k\"\n",
    "    )\n",
    "\n",
    "    # Plot samples by color and add legend\n",
    "    \n",
    "    ax.scatter(X.iloc[:, 0], X.iloc[:, 1],c=colors, s=30, edgecolors=\"k\")\n",
    "    c_ = {\n",
    "        \"r\":\"Malignant\",\n",
    "        \"g\":\"Benign\"\n",
    "    }\n",
    "    for i in set(colors):\n",
    "        ax.scatter([], [], color=i, label=f\"{c_[i]}\")\n",
    "    ax.legend(loc=\"upper right\", title=\"Classes\")\n",
    "    if long_title:\n",
    "        ax.set_title(f\" Decision boundaries of {kernel} kernel in SVC\")\n",
    "    else:\n",
    "        ax.set_title(kernel)\n",
    "\n",
    "    if ax is None:\n",
    "        plt.show()"
   ]
  },
  {
   "cell_type": "code",
   "execution_count": null,
   "id": "d0f34f54-0e18-46a0-8e55-6e96e26f42dc",
   "metadata": {},
   "outputs": [],
   "source": [
    "#Soft Margin with Support Vectors influence less (Low Gamma)\n",
    "plot_training_data_with_decision_boundary(kernel='linear',X=X_train[10:50],y=y_train[10:50],colors=c[10:50],c=0.01)"
   ]
  },
  {
   "cell_type": "code",
   "execution_count": null,
   "id": "216d427b-5c90-4a17-a583-cc507ae034b7",
   "metadata": {},
   "outputs": [],
   "source": [
    "#Hard Margin with Support Vectors influence low (Low Gamma)\n",
    "plot_training_data_with_decision_boundary(kernel='linear',X=X_train[10:50],y=y_train[10:50],colors=c[10:50],c=100)"
   ]
  },
  {
   "cell_type": "code",
   "execution_count": null,
   "id": "13bf6f34-88f7-4c69-bd04-64179d6869a4",
   "metadata": {},
   "outputs": [],
   "source": [
    "#Poly Kernel with hard margin (High c value and high gamma)\n",
    "plot_training_data_with_decision_boundary(kernel='poly',X=X_train[10:50],y=y_train[10:50],colors=c[10:50])"
   ]
  },
  {
   "cell_type": "code",
   "execution_count": null,
   "id": "503b21d8-5c9d-4754-b67f-cef2ac9a284b",
   "metadata": {},
   "outputs": [],
   "source": [
    "#Poly Kernel with soft margin and high gamma\n",
    "plot_training_data_with_decision_boundary(kernel='poly',X=X_train[10:50],y=y_train[10:50],colors=c[10:50],c=0.000001)"
   ]
  },
  {
   "cell_type": "code",
   "execution_count": null,
   "id": "d032d945-82fc-435e-9079-05e47fe5d382",
   "metadata": {},
   "outputs": [],
   "source": [
    "#Poly Kernel with hard margin low gamma\n",
    "plot_training_data_with_decision_boundary(kernel='poly',X=X_train[10:50],y=y_train[10:50],colors=c[10:50],c=100)"
   ]
  },
  {
   "cell_type": "code",
   "execution_count": null,
   "id": "8f8814d1-f501-428d-b3fc-bca4ace5aaf5",
   "metadata": {},
   "outputs": [],
   "source": [
    "#Poly Kernel with soft margin low gamma\n",
    "plot_training_data_with_decision_boundary(kernel='poly',X=X_train[10:50],y=y_train[10:50],colors=c[10:50],c=0.01)"
   ]
  },
  {
   "cell_type": "code",
   "execution_count": null,
   "id": "da1bb094-78a6-4ce0-8d43-e7339b5081dc",
   "metadata": {},
   "outputs": [],
   "source": [
    "plot_training_data_with_decision_boundary(kernel='rbf',X=X_train[10:50],y=y_train[10:50],colors=c[10:50],gamma=0.01)"
   ]
  },
  {
   "cell_type": "code",
   "execution_count": null,
   "id": "567054e8-a3a1-4cbd-b495-227e5af36f77",
   "metadata": {},
   "outputs": [],
   "source": [
    "plot_training_data_with_decision_boundary(kernel='rbf',X=X_train[10:50],y=y_train[10:50],colors=c[10:50])"
   ]
  },
  {
   "cell_type": "code",
   "execution_count": null,
   "id": "93d23122-de67-4b0b-b0bd-1a7ae179e64b",
   "metadata": {},
   "outputs": [],
   "source": [
    "from sklearn.model_selection import GridSearchCV\n",
    "svm = svm.SVC()\n",
    "p = {\n",
    "    'C': [0.1, 1, 10], \n",
    "    'gamma': [0.01, 0.1, 1],\n",
    "    'kernel': ['rbf', 'linear','poly']\n",
    "}\n",
    "grid_search = GridSearchCV(svm, p, cv=5, scoring='accuracy')\n",
    "grid_search.fit(X_train, y_train)"
   ]
  },
  {
   "cell_type": "code",
   "execution_count": null,
   "id": "ccae7a45-2db4-4509-8892-c7a3688cdd12",
   "metadata": {},
   "outputs": [],
   "source": [
    "best_params = grid_search.best_params_\n"
   ]
  },
  {
   "cell_type": "code",
   "execution_count": null,
   "id": "d3697f56-6dca-47a5-ad2d-d49605d8c895",
   "metadata": {},
   "outputs": [],
   "source": [
    "print(best_params)"
   ]
  },
  {
   "cell_type": "code",
   "execution_count": null,
   "id": "b96e9dd2-95e7-44af-a5bc-26cbae62ea7d",
   "metadata": {},
   "outputs": [],
   "source": []
  },
  {
   "cell_type": "code",
   "execution_count": null,
   "id": "52c54500-a15f-4a4b-b158-79571c8e6c70",
   "metadata": {},
   "outputs": [],
   "source": []
  },
  {
   "cell_type": "code",
   "execution_count": null,
   "id": "91cf9b2d-3c65-4d51-9052-1591f562a35e",
   "metadata": {},
   "outputs": [],
   "source": []
  },
  {
   "cell_type": "code",
   "execution_count": null,
   "id": "b91b14c1-9c4c-4869-ae1d-37a0bcdce961",
   "metadata": {},
   "outputs": [],
   "source": []
  },
  {
   "cell_type": "code",
   "execution_count": null,
   "id": "80f5098b-7b1e-46cd-a797-9dccaab339a1",
   "metadata": {},
   "outputs": [],
   "source": []
  },
  {
   "cell_type": "code",
   "execution_count": null,
   "id": "c65a3b59-31b6-4a58-b9bf-aee53f2a3d31",
   "metadata": {},
   "outputs": [],
   "source": []
  },
  {
   "cell_type": "code",
   "execution_count": null,
   "id": "be31c4ba-a73b-48b9-8e27-28e06a3065ee",
   "metadata": {},
   "outputs": [],
   "source": []
  },
  {
   "cell_type": "code",
   "execution_count": null,
   "id": "09113ee8-bbfb-42ca-8070-def5c9c57969",
   "metadata": {},
   "outputs": [],
   "source": []
  },
  {
   "cell_type": "code",
   "execution_count": null,
   "id": "fe32ed79-ca58-4135-998e-e297f940193d",
   "metadata": {},
   "outputs": [],
   "source": []
  },
  {
   "cell_type": "code",
   "execution_count": null,
   "id": "3850f17a-c009-45ee-850e-3b31535cba71",
   "metadata": {},
   "outputs": [],
   "source": []
  },
  {
   "cell_type": "code",
   "execution_count": null,
   "id": "ca3b2cc9-95d2-4be4-ae6b-752706f337e9",
   "metadata": {},
   "outputs": [],
   "source": []
  },
  {
   "cell_type": "code",
   "execution_count": null,
   "id": "3a16b95d-424c-41b7-9b8f-3d5a1c28813d",
   "metadata": {},
   "outputs": [],
   "source": []
  },
  {
   "cell_type": "code",
   "execution_count": null,
   "id": "70185391-fd39-43c6-822d-a5cbbb273895",
   "metadata": {},
   "outputs": [],
   "source": []
  },
  {
   "cell_type": "code",
   "execution_count": null,
   "id": "69bfb777-1ae6-49f2-89c4-29fff79a89a1",
   "metadata": {},
   "outputs": [],
   "source": []
  },
  {
   "cell_type": "code",
   "execution_count": null,
   "id": "20f90d7f-2eaa-4833-b78d-49f33e55cb62",
   "metadata": {},
   "outputs": [],
   "source": []
  },
  {
   "cell_type": "code",
   "execution_count": null,
   "id": "f57fe6ac-20e4-4f12-9e10-6c49ee18fa36",
   "metadata": {},
   "outputs": [],
   "source": []
  },
  {
   "cell_type": "code",
   "execution_count": null,
   "id": "5f6cb82b-9a87-48aa-81c4-f8038199f363",
   "metadata": {},
   "outputs": [],
   "source": []
  },
  {
   "cell_type": "code",
   "execution_count": null,
   "id": "d680570f-f8ff-4286-8e63-e7a7514104a2",
   "metadata": {},
   "outputs": [],
   "source": []
  },
  {
   "cell_type": "code",
   "execution_count": null,
   "id": "5e8d21dd-db40-441b-8af3-349d8efe7fe5",
   "metadata": {},
   "outputs": [],
   "source": []
  }
 ],
 "metadata": {
  "kernelspec": {
   "display_name": "base",
   "language": "python",
   "name": "python3"
  },
  "language_info": {
   "codemirror_mode": {
    "name": "ipython",
    "version": 3
   },
   "file_extension": ".py",
   "mimetype": "text/x-python",
   "name": "python",
   "nbconvert_exporter": "python",
   "pygments_lexer": "ipython3",
   "version": "3.12.7"
  },
  "panel-cell-order": [
   "591181ef-55b9-4a40-b8e6-87f7fb460db3",
   "8dada055-fdb9-43b8-bcab-37d26a7c38d3",
   "bb55c297-5f91-4a9f-835f-1c3f42a25532",
   "74e1a1bf-e187-43e4-892f-08a5b89bdc6b",
   "1005a2bc-bd4d-418d-a486-883202a6bf39",
   "dfcad31d-f140-47d0-afdc-d363804d1d04",
   "5307fbb6-8054-4ba3-ba0c-f6b988d5bbf7",
   "914bede8-bad1-44f9-9241-fccb85ab69fe",
   "ce38d354-4ecf-4c15-ac33-e130126e95a7",
   "7c71e645-0ded-4d5d-978d-90071b299918",
   "ed30f93c-0184-46fc-b0ac-cdbc585ca02b",
   "f1254089-5f50-4e4e-b8ea-b2b0cd27cac4"
  ]
 },
 "nbformat": 4,
 "nbformat_minor": 5
}
